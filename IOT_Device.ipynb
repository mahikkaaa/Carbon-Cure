{
  "nbformat": 4,
  "nbformat_minor": 0,
  "metadata": {
    "colab": {
      "provenance": [],
      "authorship_tag": "ABX9TyM45rP5IQv785Yht77oW6Rp",
      "include_colab_link": true
    },
    "kernelspec": {
      "name": "python3",
      "display_name": "Python 3"
    },
    "language_info": {
      "name": "python"
    }
  },
  "cells": [
    {
      "cell_type": "markdown",
      "metadata": {
        "id": "view-in-github",
        "colab_type": "text"
      },
      "source": [
        "<a href=\"https://colab.research.google.com/github/mahikkaaa/Carbon-Cure/blob/main/IOT_Device.ipynb\" target=\"_parent\"><img src=\"https://colab.research.google.com/assets/colab-badge.svg\" alt=\"Open In Colab\"/></a>"
      ]
    },
    {
      "cell_type": "code",
      "execution_count": null,
      "metadata": {
        "id": "_MWTtX2DtQ74"
      },
      "outputs": [],
      "source": [
        "import serial\n",
        "import time\n",
        "import pickle  # Import the pickle module for loading the machine learning model\n",
        "from gpiozero import PWMLED\n",
        "from gps import GPS\n",
        "from bluetooth import BluetoothSerial\n",
        "from acd import ACD10"
      ]
    },
    {
      "cell_type": "code",
      "source": [
        "# Load the machine learning model\n",
        "with open('path/to/your/model.pkl', 'rb') as model_file:\n",
        "    machine_learning_model = pickle.load(model_file)\n"
      ],
      "metadata": {
        "id": "3UBgnFf_tYJP"
      },
      "execution_count": null,
      "outputs": []
    },
    {
      "cell_type": "code",
      "source": [
        "# Initialize CO2 sensor (ACD10)\n",
        "co2_sensor = ACD10()\n",
        "\n",
        "# Initialize Bluetooth serial connection\n",
        "bluetooth_serial = BluetoothSerial(port='/dev/rfcomm0', baudrate=9600)\n",
        "\n",
        "# Initialize GPS module\n",
        "gps = GPS(port='/dev/ttyS0', baudrate=9600)\n",
        "\n",
        "# Initialize battery status LED\n",
        "battery_led = PWMLED(17)  # GPIO Pin 17\n"
      ],
      "metadata": {
        "id": "6AwWa41JtbJn"
      },
      "execution_count": null,
      "outputs": []
    },
    {
      "cell_type": "code",
      "source": [
        "def measure_and_send_data():\n",
        "    # Measure CO2 level\n",
        "    co2_level = co2_sensor.measure_co2()\n",
        "\n",
        "    # Get GPS coordinates\n",
        "    latitude, longitude = gps.get_coordinates()\n",
        "\n",
        "    # Prepare data\n",
        "    data = f\"CO2 Level: {co2_level} ppm | Latitude: {latitude} | Longitude: {longitude}\"\n",
        "\n",
        "    # Send data via Bluetooth\n",
        "    bluetooth_serial.write(data.encode())\n",
        "\n",
        "    # Print data for local debugging\n",
        "    print(data)\n",
        "\n",
        "    # Make prediction using the machine learning model\n",
        "    prediction_input = [co2_level, latitude, longitude]\n",
        "    prediction = machine_learning_model.predict([prediction_input])\n",
        "\n",
        "    # Print the machine learning prediction\n",
        "    print(f\"Machine Learning Prediction: {prediction[0]}\")\n"
      ],
      "metadata": {
        "id": "WeNdsPrjthdb"
      },
      "execution_count": null,
      "outputs": []
    },
    {
      "cell_type": "code",
      "source": [
        "def check_battery_status():\n",
        "    # This is a placeholder function; you may need to implement a proper battery status check based on your battery specifications\n",
        "    battery_status = get_battery_status()\n",
        "\n",
        "    # Adjust battery LED brightness based on battery status\n",
        "    battery_led.value = battery_status / 100.0\n"
      ],
      "metadata": {
        "id": "iy_idDB4tj6F"
      },
      "execution_count": null,
      "outputs": []
    },
    {
      "cell_type": "code",
      "source": [
        "# Main loop\n",
        "while True:\n",
        "    try:\n",
        "        measure_and_send_data()\n",
        "        check_battery_status()\n",
        "        time.sleep(60)  # Adjust the sleep interval based on your requirements\n",
        "    except KeyboardInterrupt:\n",
        "        break\n",
        "    except Exception as e:\n",
        "        print(f\"Error: {e}\")\n"
      ],
      "metadata": {
        "id": "pd0-Jiaatnm5"
      },
      "execution_count": null,
      "outputs": []
    },
    {
      "cell_type": "code",
      "source": [
        "# Cleanup\n",
        "co2_sensor.cleanup()\n",
        "bluetooth_serial.close()\n",
        "gps.close()\n"
      ],
      "metadata": {
        "id": "geGDVYDstsYD"
      },
      "execution_count": null,
      "outputs": []
    },
    {
      "cell_type": "code",
      "source": [],
      "metadata": {
        "id": "l90XGcKUtvlY"
      },
      "execution_count": null,
      "outputs": []
    },
    {
      "cell_type": "code",
      "source": [],
      "metadata": {
        "id": "MR0zzeCVtxEy"
      },
      "execution_count": null,
      "outputs": []
    }
  ]
}